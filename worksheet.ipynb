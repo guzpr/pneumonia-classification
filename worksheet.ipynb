{
 "nbformat": 4,
 "nbformat_minor": 2,
 "metadata": {
  "language_info": {
   "name": "python",
   "codemirror_mode": {
    "name": "ipython",
    "version": 3
   }
  },
  "orig_nbformat": 2,
  "file_extension": ".py",
  "mimetype": "text/x-python",
  "name": "python",
  "npconvert_exporter": "python",
  "pygments_lexer": "ipython3",
  "version": 3
 },
 "cells": [
  {
   "cell_type": "code",
   "execution_count": null,
   "metadata": {},
   "outputs": [],
   "source": [
    "from google.colab import drive\n",
    "drive.mount('/content/gdrive')"
   ]
  },
  {
   "cell_type": "code",
   "execution_count": null,
   "metadata": {},
   "outputs": [],
   "source": [
    "!ls \"/content/gdrive/My Drive/chest_xray\"\n",
    "base_url = \"/content/gdrive/My Drive/chest_xray\""
   ]
  },
  {
   "cell_type": "code",
   "execution_count": null,
   "metadata": {},
   "outputs": [],
   "source": [
    "%tensorflow_version 1.x\n",
    "import numpy as np\n",
    "import os\n",
    "import shutil\n",
    "from sklearn.model_selection import StratifiedKFold\n",
    "from sklearn.metrics import accuracy_score, classification_report, confusion_matrix\n",
    "import matplotlib.pyplot as plt\n",
    "from keras.preprocessing.image import ImageDataGenerator\n",
    "from keras.models import Sequential,Model\n",
    "from keras.layers import Conv2D, MaxPooling2D, Flatten, Dense, Dropout\n",
    "from keras.optimizers import SGD, Adam\n",
    "import numpy as np\n",
    "from keras.regularizers import l2\n",
    "from keras.callbacks import EarlyStopping, ModelCheckpoint\n",
    "from PIL import Image\n",
    "from skimage import io, color\n",
    "from keras.models import load_model\n",
    "from keras.applications.mobilenet import MobileNet,preprocess_input\n",
    "from keras.applications.vgg16 import VGG16\n",
    "from keras.applications.resnet50 import ResNet50"
   ]
  },
  {
   "cell_type": "code",
   "execution_count": null,
   "metadata": {},
   "outputs": [],
   "source": [
    "epoch = 100\n",
    "train_dir = base_url + '/train'\n",
    "validation_dir = base_url + '/val'\n",
    "test_dir = base_url + '/test'\n",
    "training_count = 5216\n",
    "testing_count = 16"
   ]
  },
  {
   "cell_type": "code",
   "execution_count": null,
   "metadata": {},
   "outputs": [],
   "source": [
    "model = Sequential()\n",
    "model.add(MobileNet(include_top=False, pooling='avg',))\n",
    "model.add(Dense(2, activation='softmax'))\n",
    "model.summary()\n",
    "model.compile(optimizer=\"adam\",\n",
    "            loss='categorical_crossentropy', metrics=['acc'])"
   ]
  },
  {
   "cell_type": "code",
   "execution_count": null,
   "metadata": {},
   "outputs": [],
   "source": [
    "train_datagen = ImageDataGenerator(\n",
    "    preprocessing_function= preprocess_input,\n",
    "    rescale=1./255,\n",
    ")\n",
    "\n",
    "validation_datagen = ImageDataGenerator(\n",
    "    preprocessing_function=  preprocess_input,\n",
    "    rescale=1./255,\n",
    ")\n",
    "\n",
    "train_generator = train_datagen.flow_from_directory(train_dir, target_size=(224, 224),\n",
    "                                                batch_size=32, class_mode='categorical',\n",
    "                                                )\n",
    "\n",
    "validation_generator = validation_datagen.flow_from_directory(validation_dir, target_size=(224, 224),\n",
    "                                                batch_size=32,\n",
    "                                                class_mode='categorical',\n",
    "                                                )\n",
    "\n",
    "history = model.fit_generator(train_generator, epochs=epoch, steps_per_epoch=training_count // 32,\n",
    "                            validation_data=validation_generator, validation_steps=testing_count // 32)\n"
   ]
  },
  {
   "cell_type": "code",
   "execution_count": null,
   "metadata": {},
   "outputs": [],
   "source": [
    "datagen = ImageDataGenerator(rescale=1./255,preprocessing_function = preprocess_input)\n",
    "\n",
    "generator = datagen.flow_from_directory(\n",
    "    test_dir,\n",
    "    target_size=(224, 224),\n",
    "    batch_size=1,\n",
    "    class_mode='categorical',\n",
    "    shuffle=False,\n",
    ")\n",
    "\n",
    "generator.reset()"
   ]
  },
  {
   "cell_type": "code",
   "execution_count": null,
   "metadata": {},
   "outputs": [],
   "source": [
    "predict = model.predict_generator(generator, 624) #melakukan prediksi dari dataset testing (624 adalah jumlah data testing)\n",
    "\n",
    "predicted = np.argmax(predict, axis=1) # mengambil list class yang diprediksi\n",
    "actual = generator.classes[generator.index_array] #mengambil list class yang sebenarnya (ground truth)\n",
    "\n",
    "test_accuracy = accuracy_score(actual, predicted) #menghitung akurasi model dengan membandingkan hasil prediksi dengan ground truth\n",
    "\n",
    "total_actual = actual\n",
    "total_predicted = predicted\n",
    "\n",
    "val_loss, val_accuracy = model.evaluate_generator(evaluate_generator, 624 // 32) #mengevaluasi model menggunakan evaluate generator terhadap dataset testing\n",
    "\n",
    "val_training = history.history['acc'][-1]\n",
    "val_loss_training = history.history['loss'][-1]\n",
    "print('val acc : '+ str(val_accuracy)) \n",
    "print('val loss : ' + str(val_loss))\n",
    "print('training acc :' + str(val_training))\n",
    "print('training loss :' + str(val_loss_training))\n",
    "print('test accuracy :' + str(test_accuracy))\n",
    "\n",
    "print(classification_report(total_actual, total_predicted)) #menampilkan metrices precission,recall,f1score,dan akurasi model dengan menggunakan data perbandingan prediksi dan ground truth\n",
    "print(confusion_matrix(total_actual, total_predicted)) #menampilkan confusion matrix untuk melihat performa klasifikasi pada tiap class"
   ]
  },
  {
   "cell_type": "code",
   "execution_count": null,
   "metadata": {},
   "outputs": [],
   "source": [
    "acc = history.history['acc']\n",
    "val_acc = history.history['val_acc']\n",
    "\n",
    "epochs = range(epoch)\n",
    "\n",
    "plt.plot(epochs, acc, 'r', label='training')\n",
    "plt.plot(epochs, val_acc, 'b', label='testing')\n",
    "plt.legend()\n",
    "plt.show()\n",
    "\n",
    "loss = history.history['loss']\n",
    "val_loss = history.history['val_loss']\n",
    "\n",
    "plt.plot(epochs, loss, 'r', label='training')\n",
    "plt.plot(epochs, val_loss, 'b', label='testing')\n",
    "plt.legend()\n",
    "plt.show()"
   ]
  }
 ]
}